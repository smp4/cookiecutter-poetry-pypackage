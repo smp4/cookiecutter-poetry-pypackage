{
 "cells": [
  {
   "cell_type": "markdown",
   "id": "4ce0bc98-0fb2-4db9-aeec-e247e2c0782a",
   "metadata": {},
   "source": [
    "# Notebook Template"
   ]
  },
  {
   "cell_type": "markdown",
   "id": "d7338ab2-12b4-4523-994f-95378aaab911",
   "metadata": {},
   "source": [
    "Author: {{ cookiecutter.full_name }}\n",
    "\n",
    "Date: "
   ]
  },
  {
   "cell_type": "code",
   "execution_count": null,
   "id": "9623512c-53d6-4f77-8acf-3f22759b6193",
   "metadata": {},
   "outputs": [],
   "source": [
    "# OPTIONAL: Load the \"autoreload\" extension so that code can change\n",
    "%load_ext autoreload\n",
    "\n",
    "# OPTIONAL: always reload modules so that as you change code in src, it gets loaded\n",
    "%autoreload 2\n",
    "\n",
    "from src.data import make_dataset"
   ]
  },
  {
   "cell_type": "code",
   "execution_count": null,
   "id": "f58e7e4e-9aa6-46a9-aeac-c74dcd74e256",
   "metadata": {},
   "outputs": [],
   "source": [
    "!which python\n",
    "import sys; sys.executable\n",
    "!which jupyter-lab\n",
    "import platform\n",
    "print(platform.python_version())",
   ]
  }
 ],
 "metadata": {
  "kernelspec": {
   "display_name": "Python 3 (ipykernel)",
   "language": "python",
   "name": "python3"
  },
  "language_info": {
   "codemirror_mode": {
    "name": "ipython",
    "version": 3
   },
   "file_extension": ".py",
   "mimetype": "text/x-python",
   "name": "python",
   "nbconvert_exporter": "python",
   "pygments_lexer": "ipython3",
   "version": "3.10.6"
  }
 },
 "nbformat": 4,
 "nbformat_minor": 5
}
